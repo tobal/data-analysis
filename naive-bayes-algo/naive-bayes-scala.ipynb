{
 "cells": [
  {
   "cell_type": "markdown",
   "metadata": {},
   "source": [
    "# Naive Bayes Algorithm\n",
    "\n",
    "A machine learning tutorial from https://machinelearningmastery.com/naive-bayes-classifier-scratch-python/\n",
    "\n",
    "Reimplemented in Scala"
   ]
  },
  {
   "cell_type": "code",
   "execution_count": 31,
   "metadata": {},
   "outputs": [
    {
     "data": {
      "text/plain": [
       "defined \u001b[32mfunction\u001b[39m \u001b[36mloadCsv\u001b[39m"
      ]
     },
     "execution_count": 31,
     "metadata": {},
     "output_type": "execute_result"
    }
   ],
   "source": [
    "def loadCsv(filename: String): List[List[Double]] = {\n",
    "    val bufferedSource = io.Source.fromFile(filename)\n",
    "    val rows = ArrayBuffer[List[Double]]()\n",
    "    for (line <- bufferedSource.getLines) {\n",
    "        rows += line.split(\",\").map(_.trim).map(_.toDouble).toList\n",
    "    }\n",
    "    bufferedSource.close\n",
    "    rows.toList\n",
    "}"
   ]
  },
  {
   "cell_type": "code",
   "execution_count": 32,
   "metadata": {},
   "outputs": [
    {
     "data": {
      "text/plain": [
       "\u001b[36mfilename\u001b[39m: \u001b[32mString\u001b[39m = \u001b[32m\"pima-indians-diabetes.data.csv\"\u001b[39m\n",
       "\u001b[36mdataset\u001b[39m: \u001b[32mList\u001b[39m[\u001b[32mList\u001b[39m[\u001b[32mDouble\u001b[39m]] = \u001b[33mList\u001b[39m(\n",
       "  \u001b[33mList\u001b[39m(\u001b[32m6.0\u001b[39m, \u001b[32m148.0\u001b[39m, \u001b[32m72.0\u001b[39m, \u001b[32m35.0\u001b[39m, \u001b[32m0.0\u001b[39m, \u001b[32m33.6\u001b[39m, \u001b[32m0.627\u001b[39m, \u001b[32m50.0\u001b[39m, \u001b[32m1.0\u001b[39m),\n",
       "  \u001b[33mList\u001b[39m(\u001b[32m1.0\u001b[39m, \u001b[32m85.0\u001b[39m, \u001b[32m66.0\u001b[39m, \u001b[32m29.0\u001b[39m, \u001b[32m0.0\u001b[39m, \u001b[32m26.6\u001b[39m, \u001b[32m0.351\u001b[39m, \u001b[32m31.0\u001b[39m, \u001b[32m0.0\u001b[39m),\n",
       "  \u001b[33mList\u001b[39m(\u001b[32m8.0\u001b[39m, \u001b[32m183.0\u001b[39m, \u001b[32m64.0\u001b[39m, \u001b[32m0.0\u001b[39m, \u001b[32m0.0\u001b[39m, \u001b[32m23.3\u001b[39m, \u001b[32m0.672\u001b[39m, \u001b[32m32.0\u001b[39m, \u001b[32m1.0\u001b[39m),\n",
       "  \u001b[33mList\u001b[39m(\u001b[32m1.0\u001b[39m, \u001b[32m89.0\u001b[39m, \u001b[32m66.0\u001b[39m, \u001b[32m23.0\u001b[39m, \u001b[32m94.0\u001b[39m, \u001b[32m28.1\u001b[39m, \u001b[32m0.167\u001b[39m, \u001b[32m21.0\u001b[39m, \u001b[32m0.0\u001b[39m),\n",
       "  \u001b[33mList\u001b[39m(\u001b[32m0.0\u001b[39m, \u001b[32m137.0\u001b[39m, \u001b[32m40.0\u001b[39m, \u001b[32m35.0\u001b[39m, \u001b[32m168.0\u001b[39m, \u001b[32m43.1\u001b[39m, \u001b[32m2.288\u001b[39m, \u001b[32m33.0\u001b[39m, \u001b[32m1.0\u001b[39m),\n",
       "  \u001b[33mList\u001b[39m(\u001b[32m5.0\u001b[39m, \u001b[32m116.0\u001b[39m, \u001b[32m74.0\u001b[39m, \u001b[32m0.0\u001b[39m, \u001b[32m0.0\u001b[39m, \u001b[32m25.6\u001b[39m, \u001b[32m0.201\u001b[39m, \u001b[32m30.0\u001b[39m, \u001b[32m0.0\u001b[39m),\n",
       "  \u001b[33mList\u001b[39m(\u001b[32m3.0\u001b[39m, \u001b[32m78.0\u001b[39m, \u001b[32m50.0\u001b[39m, \u001b[32m32.0\u001b[39m, \u001b[32m88.0\u001b[39m, \u001b[32m31.0\u001b[39m, \u001b[32m0.248\u001b[39m, \u001b[32m26.0\u001b[39m, \u001b[32m1.0\u001b[39m),\n",
       "  \u001b[33mList\u001b[39m(\u001b[32m10.0\u001b[39m, \u001b[32m115.0\u001b[39m, \u001b[32m0.0\u001b[39m, \u001b[32m0.0\u001b[39m, \u001b[32m0.0\u001b[39m, \u001b[32m35.3\u001b[39m, \u001b[32m0.134\u001b[39m, \u001b[32m29.0\u001b[39m, \u001b[32m0.0\u001b[39m),\n",
       "  \u001b[33mList\u001b[39m(\u001b[32m2.0\u001b[39m, \u001b[32m197.0\u001b[39m, \u001b[32m70.0\u001b[39m, \u001b[32m45.0\u001b[39m, \u001b[32m543.0\u001b[39m, \u001b[32m30.5\u001b[39m, \u001b[32m0.158\u001b[39m, \u001b[32m53.0\u001b[39m, \u001b[32m1.0\u001b[39m),\n",
       "  \u001b[33mList\u001b[39m(\u001b[32m8.0\u001b[39m, \u001b[32m125.0\u001b[39m, \u001b[32m96.0\u001b[39m, \u001b[32m0.0\u001b[39m, \u001b[32m0.0\u001b[39m, \u001b[32m0.0\u001b[39m, \u001b[32m0.232\u001b[39m, \u001b[32m54.0\u001b[39m, \u001b[32m1.0\u001b[39m),\n",
       "  \u001b[33mList\u001b[39m(\u001b[32m4.0\u001b[39m, \u001b[32m110.0\u001b[39m, \u001b[32m92.0\u001b[39m, \u001b[32m0.0\u001b[39m, \u001b[32m0.0\u001b[39m, \u001b[32m37.6\u001b[39m, \u001b[32m0.191\u001b[39m, \u001b[32m30.0\u001b[39m, \u001b[32m0.0\u001b[39m),\n",
       "\u001b[33m...\u001b[39m"
      ]
     },
     "execution_count": 32,
     "metadata": {},
     "output_type": "execute_result"
    }
   ],
   "source": [
    "val filename = \"pima-indians-diabetes.data.csv\"\n",
    "val dataset = loadCsv(filename)"
   ]
  }
 ],
 "metadata": {
  "kernelspec": {
   "display_name": "Scala",
   "language": "scala",
   "name": "scala"
  },
  "language_info": {
   "codemirror_mode": "text/x-scala",
   "file_extension": ".scala",
   "mimetype": "text/x-scala",
   "name": "scala211",
   "nbconvert_exporter": "script",
   "pygments_lexer": "scala",
   "version": "2.11.11"
  }
 },
 "nbformat": 4,
 "nbformat_minor": 2
}
