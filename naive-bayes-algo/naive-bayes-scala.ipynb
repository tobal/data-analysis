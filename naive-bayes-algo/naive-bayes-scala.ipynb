{
 "cells": [
  {
   "cell_type": "markdown",
   "metadata": {},
   "source": [
    "# Naive Bayes Algorithm\n",
    "\n",
    "A machine learning tutorial from https://machinelearningmastery.com/naive-bayes-classifier-scratch-python/\n",
    "\n",
    "Reimplemented in Scala"
   ]
  },
  {
   "cell_type": "code",
   "execution_count": 31,
   "metadata": {},
   "outputs": [
    {
     "data": {
      "text/plain": [
       "defined \u001b[32mfunction\u001b[39m \u001b[36mloadCsv\u001b[39m"
      ]
     },
     "execution_count": 31,
     "metadata": {},
     "output_type": "execute_result"
    }
   ],
   "source": [
    "def loadCsv(filename: String): List[List[Double]] = {\n",
    "    val bufferedSource = io.Source.fromFile(filename)\n",
    "    val rows = ArrayBuffer[List[Double]]()\n",
    "    for (line <- bufferedSource.getLines) {\n",
    "        rows += line.split(\",\").map(_.trim).map(_.toDouble).toList\n",
    "    }\n",
    "    bufferedSource.close\n",
    "    rows.toList\n",
    "}"
   ]
  },
  {
   "cell_type": "code",
   "execution_count": 3,
   "metadata": {},
   "outputs": [
    {
     "data": {
      "text/plain": [
       "\u001b[32mimport \u001b[39m\u001b[36mutil.Random\n",
       "\n",
       "\u001b[39m\n",
       "defined \u001b[32mfunction\u001b[39m \u001b[36msplitDataset\u001b[39m"
      ]
     },
     "execution_count": 3,
     "metadata": {},
     "output_type": "execute_result"
    }
   ],
   "source": [
    "import util.Random\n",
    "\n",
    "def splitDataset(dataset: List[List[Double]], splitRatio: Double): (List[List[Double]], List[List[Double]]) = {\n",
    "    val shuffled = Random.shuffle(dataset)\n",
    "    shuffled.splitAt((dataset.length * splitRatio).toInt)\n",
    "}"
   ]
  },
  {
   "cell_type": "code",
   "execution_count": 6,
   "metadata": {},
   "outputs": [
    {
     "data": {
      "text/plain": [
       "\u001b[36mdataset\u001b[39m: \u001b[32mList\u001b[39m[\u001b[32mList\u001b[39m[\u001b[32mDouble\u001b[39m]] = \u001b[33mList\u001b[39m(\u001b[33mList\u001b[39m(\u001b[32m1.0\u001b[39m), \u001b[33mList\u001b[39m(\u001b[32m2.0\u001b[39m), \u001b[33mList\u001b[39m(\u001b[32m3.0\u001b[39m), \u001b[33mList\u001b[39m(\u001b[32m4.0\u001b[39m), \u001b[33mList\u001b[39m(\u001b[32m5.0\u001b[39m))\n",
       "\u001b[36mtrainData\u001b[39m: \u001b[32mList\u001b[39m[\u001b[32mList\u001b[39m[\u001b[32mDouble\u001b[39m]] = \u001b[33mList\u001b[39m(\u001b[33mList\u001b[39m(\u001b[32m3.0\u001b[39m), \u001b[33mList\u001b[39m(\u001b[32m2.0\u001b[39m), \u001b[33mList\u001b[39m(\u001b[32m5.0\u001b[39m))\n",
       "\u001b[36mtestData\u001b[39m: \u001b[32mList\u001b[39m[\u001b[32mList\u001b[39m[\u001b[32mDouble\u001b[39m]] = \u001b[33mList\u001b[39m(\u001b[33mList\u001b[39m(\u001b[32m4.0\u001b[39m), \u001b[33mList\u001b[39m(\u001b[32m1.0\u001b[39m))"
      ]
     },
     "execution_count": 6,
     "metadata": {},
     "output_type": "execute_result"
    }
   ],
   "source": [
    "val dataset = List(List(1.0), List(2.0), List(3.0), List(4.0), List(5.0))\n",
    "val (trainData, testData) = splitDataset(dataset, 0.67)"
   ]
  }
 ],
 "metadata": {
  "kernelspec": {
   "display_name": "Scala",
   "language": "scala",
   "name": "scala"
  },
  "language_info": {
   "codemirror_mode": "text/x-scala",
   "file_extension": ".scala",
   "mimetype": "text/x-scala",
   "name": "scala211",
   "nbconvert_exporter": "script",
   "pygments_lexer": "scala",
   "version": "2.11.11"
  }
 },
 "nbformat": 4,
 "nbformat_minor": 2
}
