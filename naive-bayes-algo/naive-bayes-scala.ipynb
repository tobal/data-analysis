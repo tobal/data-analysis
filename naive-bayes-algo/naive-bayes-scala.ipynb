{
 "cells": [
  {
   "cell_type": "markdown",
   "metadata": {},
   "source": [
    "# Naive Bayes Algorithm\n",
    "\n",
    "A machine learning tutorial from https://machinelearningmastery.com/naive-bayes-classifier-scratch-python/\n",
    "\n",
    "Reimplemented in Scala"
   ]
  },
  {
   "cell_type": "code",
   "execution_count": 31,
   "metadata": {},
   "outputs": [
    {
     "data": {
      "text/plain": [
       "defined \u001b[32mfunction\u001b[39m \u001b[36mloadCsv\u001b[39m"
      ]
     },
     "execution_count": 31,
     "metadata": {},
     "output_type": "execute_result"
    }
   ],
   "source": [
    "def loadCsv(filename: String): List[List[Double]] = {\n",
    "    val bufferedSource = io.Source.fromFile(filename)\n",
    "    val rows = ArrayBuffer[List[Double]]()\n",
    "    for (line <- bufferedSource.getLines) {\n",
    "        rows += line.split(\",\").map(_.trim).map(_.toDouble).toList\n",
    "    }\n",
    "    bufferedSource.close\n",
    "    rows.toList\n",
    "}"
   ]
  },
  {
   "cell_type": "code",
   "execution_count": 3,
   "metadata": {},
   "outputs": [
    {
     "data": {
      "text/plain": [
       "\u001b[32mimport \u001b[39m\u001b[36mutil.Random\n",
       "\n",
       "\u001b[39m\n",
       "defined \u001b[32mfunction\u001b[39m \u001b[36msplitDataset\u001b[39m"
      ]
     },
     "execution_count": 3,
     "metadata": {},
     "output_type": "execute_result"
    }
   ],
   "source": [
    "import util.Random\n",
    "\n",
    "def splitDataset(dataset: List[List[Double]], splitRatio: Double): (List[List[Double]], List[List[Double]]) = {\n",
    "    val shuffled = Random.shuffle(dataset)\n",
    "    shuffled.splitAt((dataset.length * splitRatio).toInt)\n",
    "}"
   ]
  },
  {
   "cell_type": "code",
   "execution_count": 1,
   "metadata": {},
   "outputs": [
    {
     "data": {
      "text/plain": [
       "defined \u001b[32mfunction\u001b[39m \u001b[36mseparateByClass\u001b[39m"
      ]
     },
     "execution_count": 1,
     "metadata": {},
     "output_type": "execute_result"
    }
   ],
   "source": [
    "def separateByClass(dataset: List[List[Double]]): Map[Double, List[List[Double]]] = dataset.groupBy(_.last)"
   ]
  },
  {
   "cell_type": "code",
   "execution_count": 2,
   "metadata": {},
   "outputs": [
    {
     "data": {
      "text/plain": [
       "defined \u001b[32mfunction\u001b[39m \u001b[36mcalcMeanStd\u001b[39m\n",
       "defined \u001b[32mfunction\u001b[39m \u001b[36mmean\u001b[39m\n",
       "defined \u001b[32mfunction\u001b[39m \u001b[36mstdev\u001b[39m"
      ]
     },
     "execution_count": 2,
     "metadata": {},
     "output_type": "execute_result"
    }
   ],
   "source": [
    "// TODO: validate this implementation, is the python one better?\n",
    "def calcMeanStd(x: List[Double]): (Double, Double) = {\n",
    "    @scala.annotation.tailrec\n",
    "    def meanStd(x: List[Double], mu: Double, Q: Double, count: Int): (Double, Double) = {\n",
    "        if (count >= x.length) (mu, Math.sqrt(Q / x.length))\n",
    "        else {\n",
    "            val newCount = count + 1\n",
    "            val newMu = x(count) / newCount + mu * (1.0 - 1.0 / newCount)\n",
    "            val newQ = Q + (x(count) - mu) * (x(count) - newMu)\n",
    "            meanStd(x, newMu, newQ, newCount)   \n",
    "        }        \n",
    "    }\n",
    "\n",
    "    meanStd(x, 0.0, 0.0, 0)    \n",
    "}\n",
    "\n",
    "def mean(numbers: List[Double]): Double = calcMeanStd(numbers)._1\n",
    "def stdev(numbers: List[Double]): Double = calcMeanStd(numbers)._2"
   ]
  },
  {
   "cell_type": "code",
   "execution_count": 3,
   "metadata": {},
   "outputs": [
    {
     "data": {
      "text/plain": [
       "defined \u001b[32mfunction\u001b[39m \u001b[36msummarize\u001b[39m"
      ]
     },
     "execution_count": 3,
     "metadata": {},
     "output_type": "execute_result"
    }
   ],
   "source": [
    "def summarize(dataset: List[List[Double]]): List[(Double, Double)] = dataset.transpose.dropRight(1).map(calcMeanStd)"
   ]
  },
  {
   "cell_type": "code",
   "execution_count": 4,
   "metadata": {},
   "outputs": [
    {
     "data": {
      "text/plain": [
       "defined \u001b[32mfunction\u001b[39m \u001b[36msummarizeByClass\u001b[39m"
      ]
     },
     "execution_count": 4,
     "metadata": {},
     "output_type": "execute_result"
    }
   ],
   "source": [
    "def summarizeByClass(dataset: List[List[Double]]): Map[Double, List[(Double, Double)]] = separateByClass(dataset).map {\n",
    "    case (a, b) => (a, summarize(b))\n",
    "}"
   ]
  },
  {
   "cell_type": "code",
   "execution_count": 5,
   "metadata": {},
   "outputs": [
    {
     "data": {
      "text/plain": [
       "\u001b[36mdataset\u001b[39m: \u001b[32mList\u001b[39m[\u001b[32mList\u001b[39m[\u001b[32mDouble\u001b[39m]] = \u001b[33mList\u001b[39m(\n",
       "  \u001b[33mList\u001b[39m(\u001b[32m1.0\u001b[39m, \u001b[32m20.0\u001b[39m, \u001b[32m1.0\u001b[39m),\n",
       "  \u001b[33mList\u001b[39m(\u001b[32m2.0\u001b[39m, \u001b[32m21.0\u001b[39m, \u001b[32m0.0\u001b[39m),\n",
       "  \u001b[33mList\u001b[39m(\u001b[32m3.0\u001b[39m, \u001b[32m22.0\u001b[39m, \u001b[32m1.0\u001b[39m),\n",
       "  \u001b[33mList\u001b[39m(\u001b[32m4.0\u001b[39m, \u001b[32m22.0\u001b[39m, \u001b[32m0.0\u001b[39m)\n",
       ")\n",
       "\u001b[36mres4_1\u001b[39m: \u001b[32mMap\u001b[39m[\u001b[32mDouble\u001b[39m, \u001b[32mList\u001b[39m[(\u001b[32mDouble\u001b[39m, \u001b[32mDouble\u001b[39m)]] = \u001b[33mMap\u001b[39m(\u001b[32m1.0\u001b[39m -> \u001b[33mList\u001b[39m((\u001b[32m2.0\u001b[39m, \u001b[32m1.0\u001b[39m), (\u001b[32m21.0\u001b[39m, \u001b[32m1.0\u001b[39m)), \u001b[32m0.0\u001b[39m -> \u001b[33mList\u001b[39m((\u001b[32m3.0\u001b[39m, \u001b[32m1.0\u001b[39m), (\u001b[32m21.5\u001b[39m, \u001b[32m0.5\u001b[39m)))"
      ]
     },
     "execution_count": 5,
     "metadata": {},
     "output_type": "execute_result"
    }
   ],
   "source": [
    "val dataset = List(List(1.0, 20.0, 1.0), List(2.0, 21.0, 0.0), List(3.0, 22.0, 1.0), List(4.0, 22.0, 0))\n",
    "summarizeByClass(dataset)"
   ]
  }
 ],
 "metadata": {
  "kernelspec": {
   "display_name": "Scala",
   "language": "scala",
   "name": "scala"
  },
  "language_info": {
   "codemirror_mode": "text/x-scala",
   "file_extension": ".scala",
   "mimetype": "text/x-scala",
   "name": "scala211",
   "nbconvert_exporter": "script",
   "pygments_lexer": "scala",
   "version": "2.11.11"
  }
 },
 "nbformat": 4,
 "nbformat_minor": 2
}
